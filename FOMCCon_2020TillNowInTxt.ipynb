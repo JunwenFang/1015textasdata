{
  "cells": [
    {
      "cell_type": "code",
      "execution_count": 12,
      "metadata": {},
      "outputs": [
        {
          "ename": "ModuleNotFoundError",
          "evalue": "No module named 'requests'",
          "output_type": "error",
          "traceback": [
            "\u001b[0;31m---------------------------------------------------------------------------\u001b[0m",
            "\u001b[0;31mModuleNotFoundError\u001b[0m                       Traceback (most recent call last)",
            "Cell \u001b[0;32mIn[12], line 2\u001b[0m\n\u001b[1;32m      1\u001b[0m \u001b[38;5;28;01mimport\u001b[39;00m\u001b[38;5;250m \u001b[39m\u001b[38;5;21;01mos\u001b[39;00m\n\u001b[0;32m----> 2\u001b[0m \u001b[38;5;28;01mimport\u001b[39;00m\u001b[38;5;250m \u001b[39m\u001b[38;5;21;01mrequests\u001b[39;00m\n\u001b[1;32m      3\u001b[0m \u001b[38;5;28;01mfrom\u001b[39;00m\u001b[38;5;250m \u001b[39m\u001b[38;5;21;01mtqdm\u001b[39;00m\u001b[38;5;250m \u001b[39m\u001b[38;5;28;01mimport\u001b[39;00m tqdm\n",
            "\u001b[0;31mModuleNotFoundError\u001b[0m: No module named 'requests'"
          ]
        }
      ],
      "source": [
        "import os\n",
        "import requests\n",
        "from tqdm import tqdm"
      ]
    },
    {
      "cell_type": "code",
      "execution_count": 6,
      "metadata": {
        "colab": {
          "base_uri": "https://localhost:8080/"
        },
        "id": "Cm_lFD2QtIK6",
        "outputId": "f2cd764a-04f2-4e93-d37c-5467397e94de"
      },
      "outputs": [
        {
          "ename": "ModuleNotFoundError",
          "evalue": "No module named 'requests'",
          "output_type": "error",
          "traceback": [
            "\u001b[0;31m---------------------------------------------------------------------------\u001b[0m",
            "\u001b[0;31mModuleNotFoundError\u001b[0m                       Traceback (most recent call last)",
            "Cell \u001b[0;32mIn[6], line 2\u001b[0m\n\u001b[1;32m      1\u001b[0m \u001b[38;5;28;01mimport\u001b[39;00m\u001b[38;5;250m \u001b[39m\u001b[38;5;21;01mos\u001b[39;00m\n\u001b[0;32m----> 2\u001b[0m \u001b[38;5;28;01mimport\u001b[39;00m\u001b[38;5;250m \u001b[39m\u001b[38;5;21;01mrequests\u001b[39;00m\n\u001b[1;32m      3\u001b[0m \u001b[38;5;28;01mfrom\u001b[39;00m\u001b[38;5;250m \u001b[39m\u001b[38;5;21;01mtqdm\u001b[39;00m\u001b[38;5;250m \u001b[39m\u001b[38;5;28;01mimport\u001b[39;00m tqdm\n\u001b[1;32m      5\u001b[0m \u001b[38;5;66;03m# 创建保存目录\u001b[39;00m\n",
            "\u001b[0;31mModuleNotFoundError\u001b[0m: No module named 'requests'"
          ]
        }
      ],
      "source": [
        "import os\n",
        "import requests\n",
        "from tqdm import tqdm\n",
        "\n",
        "# 创建保存目录\n",
        "os.makedirs(\"FOMC_Press_Conferences\", exist_ok=True)\n",
        "\n",
        "# PDF 链接列表（可自行补充）\n",
        "pdf_links = [\n",
        "    \"https://www.federalreserve.gov/mediacenter/files/FOMCpresconf20150318.pdf\",\n",
        "    \"https://www.federalreserve.gov/mediacenter/files/FOMCpresconf20150617.pdf\",\n",
        "    \"https://www.federalreserve.gov/mediacenter/files/FOMCpresconf20150917.pdf\",\n",
        "    \"https://www.federalreserve.gov/mediacenter/files/FOMCpresconf20151216.pdf\",\n",
        "    \"https://www.federalreserve.gov/mediacenter/files/FOMCpresconf20160316.pdf\",\n",
        "    \"https://www.federalreserve.gov/mediacenter/files/FOMCpresconf20160615.pdf\",\n",
        "    \"https://www.federalreserve.gov/mediacenter/files/FOMCpresconf20160921.pdf\",\n",
        "    \"https://www.federalreserve.gov/mediacenter/files/FOMCpresconf20161214.pdf\",\n",
        "    \"https://www.federalreserve.gov/mediacenter/files/FOMCpresconf20170315.pdf\",\n",
        "    \"https://www.federalreserve.gov/mediacenter/files/FOMCpresconf20170614.pdf\",\n",
        "    \"https://www.federalreserve.gov/mediacenter/files/FOMCpresconf20170920.pdf\",\n",
        "    \"https://www.federalreserve.gov/mediacenter/files/FOMCpresconf20171213.pdf\",\n",
        "    \"https://www.federalreserve.gov/mediacenter/files/FOMCpresconf20180321.pdf\",\n",
        "    \"https://www.federalreserve.gov/mediacenter/files/FOMCpresconf20180613.pdf\",\n",
        "    \"https://www.federalreserve.gov/mediacenter/files/FOMCpresconf20180926.pdf\",\n",
        "    \"https://www.federalreserve.gov/mediacenter/files/FOMCpresconf20181219.pdf\",\n",
        "    \"https://www.federalreserve.gov/mediacenter/files/FOMCpresconf20190320.pdf\",\n",
        "    \"https://www.federalreserve.gov/mediacenter/files/FOMCpresconf20190619.pdf\",\n",
        "    \"https://www.federalreserve.gov/mediacenter/files/FOMCpresconf20190918.pdf\",\n",
        "    \"https://www.federalreserve.gov/mediacenter/files/FOMCpresconf20191211.pdf\",\n",
        "    \"https://www.federalreserve.gov/mediacenter/files/FOMCpresconf20200315.pdf\",\n",
        "    \"https://www.federalreserve.gov/mediacenter/files/FOMCpresconf20200429.pdf\",\n",
        "    \"https://www.federalreserve.gov/mediacenter/files/FOMCpresconf20200610.pdf\",\n",
        "    \"https://www.federalreserve.gov/mediacenter/files/FOMCpresconf20200729.pdf\",\n",
        "    \"https://www.federalreserve.gov/mediacenter/files/FOMCpresconf20200916.pdf\",\n",
        "    \"https://www.federalreserve.gov/mediacenter/files/FOMCpresconf20201105.pdf\",\n",
        "    \"https://www.federalreserve.gov/mediacenter/files/FOMCpresconf20201216.pdf\",\n",
        "    \"https://www.federalreserve.gov/mediacenter/files/FOMCpresconf20210127.pdf\",\n",
        "    \"https://www.federalreserve.gov/mediacenter/files/FOMCpresconf20210317.pdf\",\n",
        "    \"https://www.federalreserve.gov/mediacenter/files/FOMCpresconf20210428.pdf\",\n",
        "    \"https://www.federalreserve.gov/mediacenter/files/FOMCpresconf20210616.pdf\",\n",
        "    \"https://www.federalreserve.gov/mediacenter/files/FOMCpresconf20210728.pdf\",\n",
        "    \"https://www.federalreserve.gov/mediacenter/files/FOMCpresconf20210922.pdf\",\n",
        "    \"https://www.federalreserve.gov/mediacenter/files/FOMCpresconf20211103.pdf\",\n",
        "    \"https://www.federalreserve.gov/mediacenter/files/FOMCpresconf20211215.pdf\",\n",
        "    \"https://www.federalreserve.gov/mediacenter/files/FOMCpresconf20220126.pdf\",\n",
        "    \"https://www.federalreserve.gov/mediacenter/files/FOMCpresconf20220316.pdf\",\n",
        "    \"https://www.federalreserve.gov/mediacenter/files/FOMCpresconf20220504.pdf\",\n",
        "    \"https://www.federalreserve.gov/mediacenter/files/FOMCpresconf20220615.pdf\",\n",
        "    \"https://www.federalreserve.gov/mediacenter/files/FOMCpresconf20220727.pdf\",\n",
        "    \"https://www.federalreserve.gov/mediacenter/files/FOMCpresconf20220921.pdf\",\n",
        "    \"https://www.federalreserve.gov/mediacenter/files/FOMCpresconf20221102.pdf\",\n",
        "    \"https://www.federalreserve.gov/mediacenter/files/FOMCpresconf20221214.pdf\",\n",
        "    \"https://www.federalreserve.gov/mediacenter/files/FOMCpresconf20230201.pdf\",\n",
        "    \"https://www.federalreserve.gov/mediacenter/files/FOMCpresconf20230322.pdf\",\n",
        "    \"https://www.federalreserve.gov/mediacenter/files/FOMCpresconf20230503.pdf\",\n",
        "    \"https://www.federalreserve.gov/mediacenter/files/FOMCpresconf20230614.pdf\",\n",
        "    \"https://www.federalreserve.gov/mediacenter/files/FOMCpresconf20230726.pdf\",\n",
        "    \"https://www.federalreserve.gov/mediacenter/files/FOMCpresconf20230920.pdf\",\n",
        "    \"https://www.federalreserve.gov/mediacenter/files/FOMCpresconf20231101.pdf\",\n",
        "    \"https://www.federalreserve.gov/mediacenter/files/FOMCpresconf20231213.pdf\",\n",
        "    \"https://www.federalreserve.gov/mediacenter/files/FOMCpresconf20240131.pdf\",\n",
        "    \"https://www.federalreserve.gov/mediacenter/files/FOMCpresconf20240320.pdf\"\n",
        "\n",
        "\n",
        "\n",
        "]\n",
        "\n",
        "# 下载PDF\n",
        "for url in tqdm(pdf_links):\n",
        "    filename = os.path.join(\"FOMC_Press_Conferences\", url.split(\"/\")[-1])\n",
        "    response = requests.get(url)\n",
        "    with open(filename, \"wb\") as f:\n",
        "        f.write(response.content)\n",
        "\n",
        "print(\"所有PDF下载完成！\")"
      ]
    },
    {
      "cell_type": "code",
      "execution_count": 7,
      "metadata": {},
      "outputs": [
        {
          "ename": "KeyboardInterrupt",
          "evalue": "",
          "output_type": "error",
          "traceback": [
            "\u001b[0;31m---------------------------------------------------------------------------\u001b[0m",
            "\u001b[0;31mKeyboardInterrupt\u001b[0m                         Traceback (most recent call last)",
            "Cell \u001b[0;32mIn[7], line 1\u001b[0m\n\u001b[0;32m----> 1\u001b[0m \u001b[38;5;28;01mimport\u001b[39;00m\u001b[38;5;250m \u001b[39m\u001b[38;5;21;01mos\u001b[39;00m\n\u001b[1;32m      2\u001b[0m \u001b[38;5;28;01mimport\u001b[39;00m\u001b[38;5;250m \u001b[39m\u001b[38;5;21;01mrequests\u001b[39;00m\n\u001b[1;32m      3\u001b[0m \u001b[38;5;28;01mfrom\u001b[39;00m\u001b[38;5;250m \u001b[39m\u001b[38;5;21;01mtqdm\u001b[39;00m\u001b[38;5;250m \u001b[39m\u001b[38;5;28;01mimport\u001b[39;00m tqdm\n",
            "Cell \u001b[0;32mIn[7], line 1\u001b[0m\n\u001b[0;32m----> 1\u001b[0m \u001b[38;5;28;01mimport\u001b[39;00m\u001b[38;5;250m \u001b[39m\u001b[38;5;21;01mos\u001b[39;00m\n\u001b[1;32m      2\u001b[0m \u001b[38;5;28;01mimport\u001b[39;00m\u001b[38;5;250m \u001b[39m\u001b[38;5;21;01mrequests\u001b[39;00m\n\u001b[1;32m      3\u001b[0m \u001b[38;5;28;01mfrom\u001b[39;00m\u001b[38;5;250m \u001b[39m\u001b[38;5;21;01mtqdm\u001b[39;00m\u001b[38;5;250m \u001b[39m\u001b[38;5;28;01mimport\u001b[39;00m tqdm\n",
            "File \u001b[0;32m~/Library/Python/3.9/lib/python/site-packages/debugpy/_vendored/pydevd/_pydevd_bundle/pydevd_frame.py:768\u001b[0m, in \u001b[0;36mPyDBFrame.trace_dispatch\u001b[0;34m(self, frame, event, arg)\u001b[0m\n\u001b[1;32m    766\u001b[0m \u001b[38;5;66;03m# if thread has a suspend flag, we suspend with a busy wait\u001b[39;00m\n\u001b[1;32m    767\u001b[0m \u001b[38;5;28;01mif\u001b[39;00m info\u001b[38;5;241m.\u001b[39mpydev_state \u001b[38;5;241m==\u001b[39m STATE_SUSPEND:\n\u001b[0;32m--> 768\u001b[0m     \u001b[38;5;28;43mself\u001b[39;49m\u001b[38;5;241;43m.\u001b[39;49m\u001b[43mdo_wait_suspend\u001b[49m\u001b[43m(\u001b[49m\u001b[43mthread\u001b[49m\u001b[43m,\u001b[49m\u001b[43m \u001b[49m\u001b[43mframe\u001b[49m\u001b[43m,\u001b[49m\u001b[43m \u001b[49m\u001b[43mevent\u001b[49m\u001b[43m,\u001b[49m\u001b[43m \u001b[49m\u001b[43marg\u001b[49m\u001b[43m)\u001b[49m\n\u001b[1;32m    769\u001b[0m     \u001b[38;5;28;01mreturn\u001b[39;00m \u001b[38;5;28mself\u001b[39m\u001b[38;5;241m.\u001b[39mtrace_dispatch\n\u001b[1;32m    770\u001b[0m \u001b[38;5;28;01melse\u001b[39;00m:\n",
            "File \u001b[0;32m~/Library/Python/3.9/lib/python/site-packages/debugpy/_vendored/pydevd/_pydevd_bundle/pydevd_frame.py:172\u001b[0m, in \u001b[0;36mPyDBFrame.do_wait_suspend\u001b[0;34m(self, *args, **kwargs)\u001b[0m\n\u001b[1;32m    171\u001b[0m \u001b[38;5;28;01mdef\u001b[39;00m\u001b[38;5;250m \u001b[39m\u001b[38;5;21mdo_wait_suspend\u001b[39m(\u001b[38;5;28mself\u001b[39m, \u001b[38;5;241m*\u001b[39margs, \u001b[38;5;241m*\u001b[39m\u001b[38;5;241m*\u001b[39mkwargs):\n\u001b[0;32m--> 172\u001b[0m     \u001b[38;5;28;43mself\u001b[39;49m\u001b[38;5;241;43m.\u001b[39;49m\u001b[43m_args\u001b[49m\u001b[43m[\u001b[49m\u001b[38;5;241;43m0\u001b[39;49m\u001b[43m]\u001b[49m\u001b[38;5;241;43m.\u001b[39;49m\u001b[43mdo_wait_suspend\u001b[49m\u001b[43m(\u001b[49m\u001b[38;5;241;43m*\u001b[39;49m\u001b[43margs\u001b[49m\u001b[43m,\u001b[49m\u001b[43m \u001b[49m\u001b[38;5;241;43m*\u001b[39;49m\u001b[38;5;241;43m*\u001b[39;49m\u001b[43mkwargs\u001b[49m\u001b[43m)\u001b[49m\n",
            "File \u001b[0;32m~/Library/Python/3.9/lib/python/site-packages/debugpy/_vendored/pydevd/pydevd.py:2188\u001b[0m, in \u001b[0;36mPyDB.do_wait_suspend\u001b[0;34m(self, thread, frame, event, arg, exception_type)\u001b[0m\n\u001b[1;32m   2185\u001b[0m             from_this_thread\u001b[38;5;241m.\u001b[39mappend(frame_custom_thread_id)\n\u001b[1;32m   2187\u001b[0m     \u001b[38;5;28;01mwith\u001b[39;00m \u001b[38;5;28mself\u001b[39m\u001b[38;5;241m.\u001b[39m_threads_suspended_single_notification\u001b[38;5;241m.\u001b[39mnotify_thread_suspended(thread_id, thread, stop_reason):\n\u001b[0;32m-> 2188\u001b[0m         keep_suspended \u001b[38;5;241m=\u001b[39m \u001b[38;5;28;43mself\u001b[39;49m\u001b[38;5;241;43m.\u001b[39;49m\u001b[43m_do_wait_suspend\u001b[49m\u001b[43m(\u001b[49m\u001b[43mthread\u001b[49m\u001b[43m,\u001b[49m\u001b[43m \u001b[49m\u001b[43mframe\u001b[49m\u001b[43m,\u001b[49m\u001b[43m \u001b[49m\u001b[43mevent\u001b[49m\u001b[43m,\u001b[49m\u001b[43m \u001b[49m\u001b[43marg\u001b[49m\u001b[43m,\u001b[49m\u001b[43m \u001b[49m\u001b[43mtrace_suspend_type\u001b[49m\u001b[43m,\u001b[49m\u001b[43m \u001b[49m\u001b[43mfrom_this_thread\u001b[49m\u001b[43m,\u001b[49m\u001b[43m \u001b[49m\u001b[43mframes_tracker\u001b[49m\u001b[43m)\u001b[49m\n\u001b[1;32m   2190\u001b[0m frames_list \u001b[38;5;241m=\u001b[39m \u001b[38;5;28;01mNone\u001b[39;00m\n\u001b[1;32m   2192\u001b[0m \u001b[38;5;28;01mif\u001b[39;00m keep_suspended:\n\u001b[1;32m   2193\u001b[0m     \u001b[38;5;66;03m# This means that we should pause again after a set next statement.\u001b[39;00m\n",
            "File \u001b[0;32m~/Library/Python/3.9/lib/python/site-packages/debugpy/_vendored/pydevd/pydevd.py:2257\u001b[0m, in \u001b[0;36mPyDB._do_wait_suspend\u001b[0;34m(self, thread, frame, event, arg, trace_suspend_type, from_this_thread, frames_tracker)\u001b[0m\n\u001b[1;32m   2254\u001b[0m                 queue\u001b[38;5;241m.\u001b[39mput(internal_cmd)\n\u001b[1;32m   2255\u001b[0m                 wait_timeout \u001b[38;5;241m=\u001b[39m TIMEOUT_FAST\n\u001b[0;32m-> 2257\u001b[0m         \u001b[43mnotify_event\u001b[49m\u001b[38;5;241;43m.\u001b[39;49m\u001b[43mwait\u001b[49m\u001b[43m(\u001b[49m\u001b[43mwait_timeout\u001b[49m\u001b[43m)\u001b[49m\n\u001b[1;32m   2258\u001b[0m         notify_event\u001b[38;5;241m.\u001b[39mclear()\n\u001b[1;32m   2260\u001b[0m \u001b[38;5;28;01mfinally\u001b[39;00m:\n",
            "File \u001b[0;32m/Library/Developer/CommandLineTools/Library/Frameworks/Python3.framework/Versions/3.9/lib/python3.9/threading.py:574\u001b[0m, in \u001b[0;36mEvent.wait\u001b[0;34m(self, timeout)\u001b[0m\n\u001b[1;32m    572\u001b[0m signaled \u001b[38;5;241m=\u001b[39m \u001b[38;5;28mself\u001b[39m\u001b[38;5;241m.\u001b[39m_flag\n\u001b[1;32m    573\u001b[0m \u001b[38;5;28;01mif\u001b[39;00m \u001b[38;5;129;01mnot\u001b[39;00m signaled:\n\u001b[0;32m--> 574\u001b[0m     signaled \u001b[38;5;241m=\u001b[39m \u001b[38;5;28;43mself\u001b[39;49m\u001b[38;5;241;43m.\u001b[39;49m\u001b[43m_cond\u001b[49m\u001b[38;5;241;43m.\u001b[39;49m\u001b[43mwait\u001b[49m\u001b[43m(\u001b[49m\u001b[43mtimeout\u001b[49m\u001b[43m)\u001b[49m\n\u001b[1;32m    575\u001b[0m \u001b[38;5;28;01mreturn\u001b[39;00m signaled\n",
            "File \u001b[0;32m/Library/Developer/CommandLineTools/Library/Frameworks/Python3.framework/Versions/3.9/lib/python3.9/threading.py:316\u001b[0m, in \u001b[0;36mCondition.wait\u001b[0;34m(self, timeout)\u001b[0m\n\u001b[1;32m    314\u001b[0m \u001b[38;5;28;01melse\u001b[39;00m:\n\u001b[1;32m    315\u001b[0m     \u001b[38;5;28;01mif\u001b[39;00m timeout \u001b[38;5;241m>\u001b[39m \u001b[38;5;241m0\u001b[39m:\n\u001b[0;32m--> 316\u001b[0m         gotit \u001b[38;5;241m=\u001b[39m \u001b[43mwaiter\u001b[49m\u001b[38;5;241;43m.\u001b[39;49m\u001b[43macquire\u001b[49m\u001b[43m(\u001b[49m\u001b[38;5;28;43;01mTrue\u001b[39;49;00m\u001b[43m,\u001b[49m\u001b[43m \u001b[49m\u001b[43mtimeout\u001b[49m\u001b[43m)\u001b[49m\n\u001b[1;32m    317\u001b[0m     \u001b[38;5;28;01melse\u001b[39;00m:\n\u001b[1;32m    318\u001b[0m         gotit \u001b[38;5;241m=\u001b[39m waiter\u001b[38;5;241m.\u001b[39macquire(\u001b[38;5;28;01mFalse\u001b[39;00m)\n",
            "\u001b[0;31mKeyboardInterrupt\u001b[0m: "
          ]
        }
      ],
      "source": [
        "import os\n",
        "import requests\n",
        "from tqdm import tqdm\n",
        "\n",
        "# 创建保存目录\n",
        "os.makedirs(\"FOMC_Press_Conferences\", exist_ok=True)\n",
        "\n",
        "# PDF 链接列表（可自行补充）\n",
        "pdf_links = [\n",
        "    \"https://www.federalreserve.gov/mediacenter/files/FOMCpresconf20150318.pdf\",\n",
        "    \"https://www.federalreserve.gov/mediacenter/files/FOMCpresconf20150617.pdf\",\n",
        "    \"https://www.federalreserve.gov/mediacenter/files/FOMCpresconf20150917.pdf\",\n",
        "    \"https://www.federalreserve.gov/mediacenter/files/FOMCpresconf20151216.pdf\",\n",
        "    \"https://www.federalreserve.gov/mediacenter/files/FOMCpresconf20160316.pdf\",\n",
        "    \"https://www.federalreserve.gov/mediacenter/files/FOMCpresconf20160615.pdf\",\n",
        "    \"https://www.federalreserve.gov/mediacenter/files/FOMCpresconf20160921.pdf\",\n",
        "    \"https://www.federalreserve.gov/mediacenter/files/FOMCpresconf20161214.pdf\",\n",
        "    \"https://www.federalreserve.gov/mediacenter/files/FOMCpresconf20170315.pdf\",\n",
        "    \"https://www.federalreserve.gov/mediacenter/files/FOMCpresconf20170614.pdf\",\n",
        "    \"https://www.federalreserve.gov/mediacenter/files/FOMCpresconf20170920.pdf\",\n",
        "    \"https://www.federalreserve.gov/mediacenter/files/FOMCpresconf20171213.pdf\",\n",
        "    \"https://www.federalreserve.gov/mediacenter/files/FOMCpresconf20180321.pdf\",\n",
        "    \"https://www.federalreserve.gov/mediacenter/files/FOMCpresconf20180613.pdf\",\n",
        "    \"https://www.federalreserve.gov/mediacenter/files/FOMCpresconf20180926.pdf\",\n",
        "    \"https://www.federalreserve.gov/mediacenter/files/FOMCpresconf20181219.pdf\",\n",
        "    \"https://www.federalreserve.gov/mediacenter/files/FOMCpresconf20190320.pdf\",\n",
        "    \"https://www.federalreserve.gov/mediacenter/files/FOMCpresconf20190619.pdf\",\n",
        "    \"https://www.federalreserve.gov/mediacenter/files/FOMCpresconf20190918.pdf\",\n",
        "    \"https://www.federalreserve.gov/mediacenter/files/FOMCpresconf20191211.pdf\",\n",
        "    \"https://www.federalreserve.gov/mediacenter/files/FOMCpresconf20200315.pdf\",\n",
        "    \"https://www.federalreserve.gov/mediacenter/files/FOMCpresconf20200429.pdf\",\n",
        "    \"https://www.federalreserve.gov/mediacenter/files/FOMCpresconf20200610.pdf\",\n",
        "    \"https://www.federalreserve.gov/mediacenter/files/FOMCpresconf20200729.pdf\",\n",
        "    \"https://www.federalreserve.gov/mediacenter/files/FOMCpresconf20200916.pdf\",\n",
        "    \"https://www.federalreserve.gov/mediacenter/files/FOMCpresconf20201105.pdf\",\n",
        "    \"https://www.federalreserve.gov/mediacenter/files/FOMCpresconf20201216.pdf\",\n",
        "    \"https://www.federalreserve.gov/mediacenter/files/FOMCpresconf20210127.pdf\",\n",
        "    \"https://www.federalreserve.gov/mediacenter/files/FOMCpresconf20210317.pdf\",\n",
        "    \"https://www.federalreserve.gov/mediacenter/files/FOMCpresconf20210428.pdf\",\n",
        "    \"https://www.federalreserve.gov/mediacenter/files/FOMCpresconf20210616.pdf\",\n",
        "    \"https://www.federalreserve.gov/mediacenter/files/FOMCpresconf20210728.pdf\",\n",
        "    \"https://www.federalreserve.gov/mediacenter/files/FOMCpresconf20210922.pdf\",\n",
        "    \"https://www.federalreserve.gov/mediacenter/files/FOMCpresconf20211103.pdf\",\n",
        "    \"https://www.federalreserve.gov/mediacenter/files/FOMCpresconf20211215.pdf\",\n",
        "    \"https://www.federalreserve.gov/mediacenter/files/FOMCpresconf20220126.pdf\",\n",
        "    \"https://www.federalreserve.gov/mediacenter/files/FOMCpresconf20220316.pdf\",\n",
        "    \"https://www.federalreserve.gov/mediacenter/files/FOMCpresconf20220504.pdf\",\n",
        "    \"https://www.federalreserve.gov/mediacenter/files/FOMCpresconf20220615.pdf\",\n",
        "    \"https://www.federalreserve.gov/mediacenter/files/FOMCpresconf20220727.pdf\",\n",
        "    \"https://www.federalreserve.gov/mediacenter/files/FOMCpresconf20220921.pdf\",\n",
        "    \"https://www.federalreserve.gov/mediacenter/files/FOMCpresconf20221102.pdf\",\n",
        "    \"https://www.federalreserve.gov/mediacenter/files/FOMCpresconf20221214.pdf\",\n",
        "    \"https://www.federalreserve.gov/mediacenter/files/FOMCpresconf20230201.pdf\",\n",
        "    \"https://www.federalreserve.gov/mediacenter/files/FOMCpresconf20230322.pdf\",\n",
        "    \"https://www.federalreserve.gov/mediacenter/files/FOMCpresconf20230503.pdf\",\n",
        "    \"https://www.federalreserve.gov/mediacenter/files/FOMCpresconf20230614.pdf\",\n",
        "    \"https://www.federalreserve.gov/mediacenter/files/FOMCpresconf20230726.pdf\",\n",
        "    \"https://www.federalreserve.gov/mediacenter/files/FOMCpresconf20230920.pdf\",\n",
        "    \"https://www.federalreserve.gov/mediacenter/files/FOMCpresconf20231101.pdf\",\n",
        "    \"https://www.federalreserve.gov/mediacenter/files/FOMCpresconf20231213.pdf\",\n",
        "    \"https://www.federalreserve.gov/mediacenter/files/FOMCpresconf20240131.pdf\",\n",
        "    \"https://www.federalreserve.gov/mediacenter/files/FOMCpresconf20240320.pdf\"\n",
        "\n",
        "\n",
        "\n",
        "]\n",
        "\n",
        "# 下载PDF\n",
        "for url in tqdm(pdf_links):\n",
        "    filename = os.path.join(\"FOMC_Press_Conferences\", url.split(\"/\")[-1])\n",
        "    response = requests.get(url)\n",
        "    with open(filename, \"wb\") as f:\n",
        "        f.write(response.content)\n",
        "\n",
        "print(\"所有PDF下载完成！\")"
      ]
    },
    {
      "cell_type": "code",
      "execution_count": 4,
      "metadata": {
        "colab": {
          "base_uri": "https://localhost:8080/"
        },
        "id": "y8k3TyJ7vOY4",
        "outputId": "788528b7-1da6-4c71-a998-55ae5d85f718"
      },
      "outputs": [
        {
          "name": "stdout",
          "output_type": "stream",
          "text": [
            "Collecting PyPDF2\n",
            "  Downloading pypdf2-3.0.1-py3-none-any.whl.metadata (6.8 kB)\n",
            "Downloading pypdf2-3.0.1-py3-none-any.whl (232 kB)\n",
            "\u001b[2K   \u001b[90m━━━━━━━━━━━━━━━━━━━━━━━━━━━━━━━━━━━━━━━━\u001b[0m \u001b[32m232.6/232.6 kB\u001b[0m \u001b[31m3.6 MB/s\u001b[0m eta \u001b[36m0:00:00\u001b[0m\n",
            "\u001b[?25hInstalling collected packages: PyPDF2\n",
            "Successfully installed PyPDF2-3.0.1\n"
          ]
        }
      ],
      "source": [
        "!pip install PyPDF2"
      ]
    },
    {
      "cell_type": "code",
      "execution_count": 5,
      "metadata": {
        "colab": {
          "base_uri": "https://localhost:8080/"
        },
        "id": "vVEcu0OctjAm",
        "outputId": "74ae836c-70c4-42e7-8043-d1baeebac59d"
      },
      "outputs": [
        {
          "name": "stdout",
          "output_type": "stream",
          "text": [
            "✅ 所有 PDF 已成功转换并清洗为 TXT。\n"
          ]
        }
      ],
      "source": [
        "import os\n",
        "from PyPDF2 import PdfReader\n",
        "import re\n",
        "\n",
        "input_dir = \"FOMC_Press_Conferences\"\n",
        "output_dir = \"FOMC_Txt\"\n",
        "os.makedirs(output_dir, exist_ok=True)\n",
        "\n",
        "def clean_text(text):\n",
        "    # 移除换页符号、重复空格、换行\n",
        "    text = re.sub(r'\\s+', ' ', text)\n",
        "    # 去除页脚中的页码如: \"Page 1 of 27\"\n",
        "    text = re.sub(r'Page\\s+\\d+\\s+of\\s+\\d+', '', text, flags=re.IGNORECASE)\n",
        "    # 去除“Transcript of Chair Powell’s Press Conference FINAL Page...”\n",
        "    text = re.sub(r'Transcript of Chair.*?Press Conference FINAL Page.*?PM', '', text, flags=re.IGNORECASE)\n",
        "    return text.strip()\n",
        "\n",
        "# 处理所有 PDF\n",
        "for filename in os.listdir(input_dir):\n",
        "    if filename.endswith(\".pdf\"):\n",
        "        pdf_path = os.path.join(input_dir, filename)\n",
        "        reader = PdfReader(pdf_path)\n",
        "\n",
        "        all_text = \"\"\n",
        "        for page in reader.pages:\n",
        "            all_text += page.extract_text() + \"\\n\"\n",
        "\n",
        "        cleaned = clean_text(all_text)\n",
        "        txt_filename = filename.replace(\".pdf\", \".txt\")\n",
        "        with open(os.path.join(output_dir, txt_filename), \"w\", encoding=\"utf-8\") as f:\n",
        "            f.write(cleaned)\n",
        "\n",
        "print(\"✅ 所有 PDF 已成功转换并清洗为 TXT。\")"
      ]
    }
  ],
  "metadata": {
    "colab": {
      "provenance": []
    },
    "kernelspec": {
      "display_name": "Python 3",
      "name": "python3"
    },
    "language_info": {
      "codemirror_mode": {
        "name": "ipython",
        "version": 3
      },
      "file_extension": ".py",
      "mimetype": "text/x-python",
      "name": "python",
      "nbconvert_exporter": "python",
      "pygments_lexer": "ipython3",
      "version": "3.9.6"
    }
  },
  "nbformat": 4,
  "nbformat_minor": 0
}
